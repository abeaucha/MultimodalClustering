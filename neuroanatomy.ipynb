{
 "cells": [
  {
   "cell_type": "code",
   "execution_count": 5,
   "id": "8d8f653c-8f06-40ec-83f9-8a9cc8b580ee",
   "metadata": {},
   "outputs": [],
   "source": [
    "import os"
   ]
  },
  {
   "cell_type": "code",
   "execution_count": 6,
   "id": "9dff8306-2af4-42fe-9edb-037d4cc7fe5d",
   "metadata": {},
   "outputs": [],
   "source": [
    "data_dir = os.getenv('DATADIR')"
   ]
  },
  {
   "cell_type": "code",
   "execution_count": 10,
   "id": "3cd85be9-e637-49bd-8863-6f2c13c46598",
   "metadata": {},
   "outputs": [],
   "source": [
    "file = os.path.join(data_dir, 'imaging', 'anatomical', 'pond-neuroanatomy20250508.csv')"
   ]
  },
  {
   "cell_type": "code",
   "execution_count": 11,
   "id": "3678f291-58f0-468c-a43f-45daba72fc3c",
   "metadata": {},
   "outputs": [],
   "source": [
    "import pandas as pd"
   ]
  },
  {
   "cell_type": "code",
   "execution_count": 14,
   "id": "dd410409-7e01-4d6e-9f90-cb9aaf280aa3",
   "metadata": {},
   "outputs": [
    {
     "name": "stderr",
     "output_type": "stream",
     "text": [
      "/var/folders/y6/skyqsfvn1_ncy33zv3gx55m40000gn/T/ipykernel_57836/2561712245.py:1: DtypeWarning: Columns (15,16,18) have mixed types. Specify dtype option on import or set low_memory=False.\n",
      "  df_neuro = pd.read_csv(file, index_col = 0)\n"
     ]
    }
   ],
   "source": [
    "df_neuro = pd.read_csv(file, index_col = 0)"
   ]
  },
  {
   "cell_type": "code",
   "execution_count": 25,
   "id": "913f56b3-b4fe-4fd7-9ff8-d9dac0ef3590",
   "metadata": {},
   "outputs": [],
   "source": [
    "cols_cx_area = df_neuro.columns[df_neuro.columns.str.startswith('lobeArea40mm')]"
   ]
  },
  {
   "cell_type": "code",
   "execution_count": 27,
   "id": "356c727f-f747-472a-8883-914ec43a1d5c",
   "metadata": {},
   "outputs": [],
   "source": [
    "cols_cx_vol = df_neuro.columns[df_neuro.columns.str.startswith('lobeVolume')]"
   ]
  },
  {
   "cell_type": "code",
   "execution_count": 29,
   "id": "2cbcb78b-8e9c-4aa2-a5c0-2b53d1b794c2",
   "metadata": {},
   "outputs": [],
   "source": [
    "cols_cx_thickness = df_neuro.columns[df_neuro.columns.str.startswith('lobeThickness')]"
   ]
  },
  {
   "cell_type": "code",
   "execution_count": 45,
   "id": "b0ef4183-3d68-4c5b-816c-dc7139c111cd",
   "metadata": {},
   "outputs": [],
   "source": [
    "df_demographics = df_neuro.loc[:,'subject':'QC_LITE']\n",
    "df_neuro_cx_area = df_neuro.loc[:, df_neuro.columns.str.startswith('lobeArea40mm')]\n",
    "df_neuro_cx_vol = df_neuro.loc[:, df_neuro.columns.str.startswith('lobeVolume')]\n",
    "df_neuro_cx_thickness = df_neuro.loc[:, df_neuro.columns.str.startswith('lobeThickness')]\n",
    "df_neuro_subcx = df_neuro.loc[:, 'left nucleus accumbens / ventral striatum':'right thalamus']"
   ]
  },
  {
   "cell_type": "code",
   "execution_count": 61,
   "id": "42010c78-a4a8-4a91-a3fb-a2c981fb675b",
   "metadata": {},
   "outputs": [
    {
     "data": {
      "text/plain": [
       "389"
      ]
     },
     "execution_count": 61,
     "metadata": {},
     "output_type": "execute_result"
    }
   ],
   "source": [
    "x = df_demographics.groupby('subject').size()\n",
    "sum(x > 1)"
   ]
  },
  {
   "cell_type": "code",
   "execution_count": 71,
   "id": "6dc69589-05c2-4b87-92e4-30bd8a904c4e",
   "metadata": {},
   "outputs": [
    {
     "data": {
      "text/plain": [
       "subject\n",
       "sub-1050033    2\n",
       "sub-1050429    2\n",
       "dtype: int64"
      ]
     },
     "execution_count": 71,
     "metadata": {},
     "output_type": "execute_result"
    }
   ],
   "source": [
    "x = df_demographics.loc[df_demographics['best_of_subject']]\n",
    "x_grouped = x.groupby('subject').size()\n",
    "x_grouped[x_grouped > 1]"
   ]
  },
  {
   "cell_type": "code",
   "execution_count": 76,
   "id": "95f16dcf-338c-4699-a5fc-e84153d0e752",
   "metadata": {},
   "outputs": [
    {
     "data": {
      "text/html": [
       "<div>\n",
       "<style scoped>\n",
       "    .dataframe tbody tr th:only-of-type {\n",
       "        vertical-align: middle;\n",
       "    }\n",
       "\n",
       "    .dataframe tbody tr th {\n",
       "        vertical-align: top;\n",
       "    }\n",
       "\n",
       "    .dataframe thead th {\n",
       "        text-align: right;\n",
       "    }\n",
       "</style>\n",
       "<table border=\"1\" class=\"dataframe\">\n",
       "  <thead>\n",
       "    <tr style=\"text-align: right;\">\n",
       "      <th></th>\n",
       "      <th>subject</th>\n",
       "      <th>session</th>\n",
       "      <th>run</th>\n",
       "      <th>scan</th>\n",
       "      <th>MAGeT_QC</th>\n",
       "      <th>scan_date</th>\n",
       "      <th>dob</th>\n",
       "      <th>Dx</th>\n",
       "      <th>sex</th>\n",
       "      <th>age_at_scan</th>\n",
       "      <th>scanner_version</th>\n",
       "      <th>scanned_on</th>\n",
       "      <th>best_of_subject</th>\n",
       "      <th>best_of_session</th>\n",
       "      <th>QC_PASS</th>\n",
       "      <th>QC_LITE</th>\n",
       "    </tr>\n",
       "  </thead>\n",
       "  <tbody>\n",
       "    <tr>\n",
       "      <th>442</th>\n",
       "      <td>sub-1050033</td>\n",
       "      <td>1</td>\n",
       "      <td>1</td>\n",
       "      <td>sub-1050033_ses-01_T1w</td>\n",
       "      <td>True</td>\n",
       "      <td>2012-07-10</td>\n",
       "      <td>2000-08-23</td>\n",
       "      <td>ASD</td>\n",
       "      <td>Male</td>\n",
       "      <td>11.887671</td>\n",
       "      <td>Trio</td>\n",
       "      <td>SickKids_Trio</td>\n",
       "      <td>True</td>\n",
       "      <td>True</td>\n",
       "      <td>False</td>\n",
       "      <td>False</td>\n",
       "    </tr>\n",
       "    <tr>\n",
       "      <th>443</th>\n",
       "      <td>sub-1050033</td>\n",
       "      <td>2</td>\n",
       "      <td>1</td>\n",
       "      <td>sub-1050033_ses-02_T1w</td>\n",
       "      <td>True</td>\n",
       "      <td>2016-02-18</td>\n",
       "      <td>2000-08-23</td>\n",
       "      <td>ASD</td>\n",
       "      <td>Male</td>\n",
       "      <td>15.498630</td>\n",
       "      <td>Trio</td>\n",
       "      <td>SickKids_Trio</td>\n",
       "      <td>False</td>\n",
       "      <td>True</td>\n",
       "      <td>True</td>\n",
       "      <td>True</td>\n",
       "    </tr>\n",
       "    <tr>\n",
       "      <th>444</th>\n",
       "      <td>sub-1050033</td>\n",
       "      <td>3</td>\n",
       "      <td>1</td>\n",
       "      <td>sub-1050033_ses-03_T1w</td>\n",
       "      <td>True</td>\n",
       "      <td>2016-04-23</td>\n",
       "      <td>2000-08-23</td>\n",
       "      <td>ASD</td>\n",
       "      <td>Male</td>\n",
       "      <td>15.676712</td>\n",
       "      <td>Trio</td>\n",
       "      <td>SickKids_Trio</td>\n",
       "      <td>False</td>\n",
       "      <td>True</td>\n",
       "      <td>True</td>\n",
       "      <td>True</td>\n",
       "    </tr>\n",
       "    <tr>\n",
       "      <th>708</th>\n",
       "      <td>sub-1050429</td>\n",
       "      <td>1</td>\n",
       "      <td>1</td>\n",
       "      <td>sub-1050429_ses-01_T1w</td>\n",
       "      <td>True</td>\n",
       "      <td>2015-12-10</td>\n",
       "      <td>2007-11-25</td>\n",
       "      <td>ASD</td>\n",
       "      <td>Female</td>\n",
       "      <td>8.046575</td>\n",
       "      <td>Trio</td>\n",
       "      <td>SickKids_Trio</td>\n",
       "      <td>True</td>\n",
       "      <td>True</td>\n",
       "      <td>True</td>\n",
       "      <td>True</td>\n",
       "    </tr>\n",
       "    <tr>\n",
       "      <th>709</th>\n",
       "      <td>sub-1050429</td>\n",
       "      <td>1</td>\n",
       "      <td>1</td>\n",
       "      <td>sub-1050429_ses-01_T1w</td>\n",
       "      <td>True</td>\n",
       "      <td>2019-10-17</td>\n",
       "      <td>2007-11-25</td>\n",
       "      <td>ASD</td>\n",
       "      <td>Female</td>\n",
       "      <td>11.901370</td>\n",
       "      <td>Prisma</td>\n",
       "      <td>SickKids_Prisma</td>\n",
       "      <td>True</td>\n",
       "      <td>True</td>\n",
       "      <td>True</td>\n",
       "      <td>True</td>\n",
       "    </tr>\n",
       "    <tr>\n",
       "      <th>710</th>\n",
       "      <td>sub-1050429</td>\n",
       "      <td>3</td>\n",
       "      <td>1</td>\n",
       "      <td>sub-1050429_ses-03_run-01_T1w</td>\n",
       "      <td>True</td>\n",
       "      <td>2020-02-03</td>\n",
       "      <td>2007-11-25</td>\n",
       "      <td>ASD</td>\n",
       "      <td>Female</td>\n",
       "      <td>12.200000</td>\n",
       "      <td>Prisma</td>\n",
       "      <td>SickKids_Prisma</td>\n",
       "      <td>False</td>\n",
       "      <td>True</td>\n",
       "      <td>False</td>\n",
       "      <td>False</td>\n",
       "    </tr>\n",
       "    <tr>\n",
       "      <th>711</th>\n",
       "      <td>sub-1050429</td>\n",
       "      <td>3</td>\n",
       "      <td>2</td>\n",
       "      <td>sub-1050429_ses-03_run-02_T1w</td>\n",
       "      <td>True</td>\n",
       "      <td>2020-02-03</td>\n",
       "      <td>2007-11-25</td>\n",
       "      <td>ASD</td>\n",
       "      <td>Female</td>\n",
       "      <td>12.200000</td>\n",
       "      <td>Prisma</td>\n",
       "      <td>SickKids_Prisma</td>\n",
       "      <td>False</td>\n",
       "      <td>False</td>\n",
       "      <td>False</td>\n",
       "      <td>False</td>\n",
       "    </tr>\n",
       "    <tr>\n",
       "      <th>712</th>\n",
       "      <td>sub-1050429</td>\n",
       "      <td>4</td>\n",
       "      <td>1</td>\n",
       "      <td>sub-1050429_ses-04_T1w</td>\n",
       "      <td>False</td>\n",
       "      <td>2024-01-10</td>\n",
       "      <td>2007-11-25</td>\n",
       "      <td>ASD</td>\n",
       "      <td>Female</td>\n",
       "      <td>16.136986</td>\n",
       "      <td>Prisma</td>\n",
       "      <td>SickKids_Prisma</td>\n",
       "      <td>False</td>\n",
       "      <td>True</td>\n",
       "      <td>False</td>\n",
       "      <td>True</td>\n",
       "    </tr>\n",
       "    <tr>\n",
       "      <th>1452</th>\n",
       "      <td>sub-1050033</td>\n",
       "      <td>1</td>\n",
       "      <td>1</td>\n",
       "      <td>sub-1050033_ses-01_T1w</td>\n",
       "      <td>True</td>\n",
       "      <td>2024-11-15</td>\n",
       "      <td>2000-08-23</td>\n",
       "      <td>ASD</td>\n",
       "      <td>Male</td>\n",
       "      <td>24.246575</td>\n",
       "      <td>Prisma</td>\n",
       "      <td>Bloorview_Prisma</td>\n",
       "      <td>True</td>\n",
       "      <td>True</td>\n",
       "      <td>True</td>\n",
       "      <td>True</td>\n",
       "    </tr>\n",
       "  </tbody>\n",
       "</table>\n",
       "</div>"
      ],
      "text/plain": [
       "          subject  session  run                           scan MAGeT_QC  \\\n",
       "442   sub-1050033        1    1         sub-1050033_ses-01_T1w     True   \n",
       "443   sub-1050033        2    1         sub-1050033_ses-02_T1w     True   \n",
       "444   sub-1050033        3    1         sub-1050033_ses-03_T1w     True   \n",
       "708   sub-1050429        1    1         sub-1050429_ses-01_T1w     True   \n",
       "709   sub-1050429        1    1         sub-1050429_ses-01_T1w     True   \n",
       "710   sub-1050429        3    1  sub-1050429_ses-03_run-01_T1w     True   \n",
       "711   sub-1050429        3    2  sub-1050429_ses-03_run-02_T1w     True   \n",
       "712   sub-1050429        4    1         sub-1050429_ses-04_T1w    False   \n",
       "1452  sub-1050033        1    1         sub-1050033_ses-01_T1w     True   \n",
       "\n",
       "       scan_date         dob   Dx     sex  age_at_scan scanner_version  \\\n",
       "442   2012-07-10  2000-08-23  ASD    Male    11.887671            Trio   \n",
       "443   2016-02-18  2000-08-23  ASD    Male    15.498630            Trio   \n",
       "444   2016-04-23  2000-08-23  ASD    Male    15.676712            Trio   \n",
       "708   2015-12-10  2007-11-25  ASD  Female     8.046575            Trio   \n",
       "709   2019-10-17  2007-11-25  ASD  Female    11.901370          Prisma   \n",
       "710   2020-02-03  2007-11-25  ASD  Female    12.200000          Prisma   \n",
       "711   2020-02-03  2007-11-25  ASD  Female    12.200000          Prisma   \n",
       "712   2024-01-10  2007-11-25  ASD  Female    16.136986          Prisma   \n",
       "1452  2024-11-15  2000-08-23  ASD    Male    24.246575          Prisma   \n",
       "\n",
       "            scanned_on  best_of_subject  best_of_session QC_PASS QC_LITE  \n",
       "442      SickKids_Trio             True             True   False   False  \n",
       "443      SickKids_Trio            False             True    True    True  \n",
       "444      SickKids_Trio            False             True    True    True  \n",
       "708      SickKids_Trio             True             True    True    True  \n",
       "709    SickKids_Prisma             True             True    True    True  \n",
       "710    SickKids_Prisma            False             True   False   False  \n",
       "711    SickKids_Prisma            False            False   False   False  \n",
       "712    SickKids_Prisma            False             True   False    True  \n",
       "1452  Bloorview_Prisma             True             True    True    True  "
      ]
     },
     "execution_count": 76,
     "metadata": {},
     "output_type": "execute_result"
    }
   ],
   "source": [
    "df_demographics.loc[df_demographics['subject'].isin(['sub-1050033', 'sub-1050429'])]"
   ]
  },
  {
   "cell_type": "markdown",
   "id": "bcc6362f-376d-4b54-8cfe-484d2e65c6a4",
   "metadata": {},
   "source": [
    "Need to grab one scan per participant. "
   ]
  }
 ],
 "metadata": {
  "kernelspec": {
   "display_name": "Python 3 (ipykernel)",
   "language": "python",
   "name": "python3"
  },
  "language_info": {
   "codemirror_mode": {
    "name": "ipython",
    "version": 3
   },
   "file_extension": ".py",
   "mimetype": "text/x-python",
   "name": "python",
   "nbconvert_exporter": "python",
   "pygments_lexer": "ipython3",
   "version": "3.12.10"
  }
 },
 "nbformat": 4,
 "nbformat_minor": 5
}
